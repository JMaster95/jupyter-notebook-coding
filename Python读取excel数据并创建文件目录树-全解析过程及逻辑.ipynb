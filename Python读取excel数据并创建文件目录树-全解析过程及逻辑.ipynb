{
 "cells": [
  {
   "cell_type": "markdown",
   "id": "2bc9cae2-f5d4-407a-a4c1-5d56f47ebe58",
   "metadata": {},
   "source": [
    "URL：http://www.bryh.cn/a/379679.html"
   ]
  },
  {
   "cell_type": "code",
   "execution_count": null,
   "id": "2cdd5bb5-b6eb-45bf-99ba-b0a00408206d",
   "metadata": {},
   "outputs": [],
   "source": [
    "import openpyxl\n",
    "import os\n",
    "\n",
    "def parse_excel(file_path):\n",
    "    workbook = openpyxl.load_workbook(file_path)\n",
    "    sheet = workbook.active\n",
    "\n",
    "    directory_stack = []  # 用于记录当前每一级目录的栈\n",
    "    for row in sheet.iter_rows(min_row=2, values_only=True):\n",
    "        level = len(directory_stack)  # 当前行的目录级别\n",
    "\n",
    "        for i, cell_value in enumerate(row):\n",
    "            if cell_value is not None and cell_value != \"@\":\n",
    "                directory_stack = directory_stack[:i]  # 清空目录栈中当前行级别及以下的目录\n",
    "                directory_stack.append(cell_value)  # 将当前目录加入目录栈\n",
    "\n",
    "                directory_path = \"\\\\\".join(directory_stack)  # 构建完整的目录路径\n",
    "                full_path = file_path.replace(os.path.basename(file_path), \"\") + directory_path\n",
    "                os.makedirs(full_path, exist_ok=True)  # 创建目录，如果目录已存在则忽略\n",
    "\n",
    "parse_excel(\"E:\\TEST\\文件.xlsx\")"
   ]
  }
 ],
 "metadata": {
  "kernelspec": {
   "display_name": "Python 3 (ipykernel)",
   "language": "python",
   "name": "python3"
  },
  "language_info": {
   "codemirror_mode": {
    "name": "ipython",
    "version": 3
   },
   "file_extension": ".py",
   "mimetype": "text/x-python",
   "name": "python",
   "nbconvert_exporter": "python",
   "pygments_lexer": "ipython3",
   "version": "3.10.13"
  }
 },
 "nbformat": 4,
 "nbformat_minor": 5
}
