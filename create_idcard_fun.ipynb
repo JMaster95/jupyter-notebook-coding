{
 "cells": [
  {
   "cell_type": "markdown",
   "id": "ce3c6c77-0a7c-45ba-92f5-4888b22efbb9",
   "metadata": {},
   "source": [
    "中国居民身份证号码由18位数字组成，格式为RRRRRRYYYYMMDDSSSC，其中：\n",
    "    > RRRRRR是持有人合法居住地的地址代码\n",
    "    > YYYYMMDD是持有人的出生日期：年（4位）、月（2位）、日（2位）\n",
    "    > SSS是用于区分具有相同出生日期和出生地的人的“顺序码”。男性使用奇数，女性使用偶数\n",
    "    > C是基于一种公式的验证位"
   ]
  },
  {
   "cell_type": "code",
   "execution_count": 1,
   "id": "4d396935-db9a-4e37-af42-90c10e0f63dc",
   "metadata": {},
   "outputs": [
    {
     "name": "stdout",
     "output_type": "stream",
     "text": [
      "110101197801236072\n"
     ]
    }
   ],
   "source": [
    "import random\n",
    "\n",
    "def generate_id_number():\n",
    "    # 生成合法的地址代码\n",
    "    address_code = '110101'  # 以北京市东城区为例\n",
    "\n",
    "    # 生成出生日期\n",
    "    year = str(random.randint(1950, 2000))\n",
    "    month = str(random.randint(1, 12)).zfill(2)\n",
    "    day = str(random.randint(1, 28)).zfill(2)\n",
    "    birthday = year + month + day\n",
    "\n",
    "    # 生成顺序码\n",
    "    sequence_code = str(random.randint(0, 999)).zfill(3)\n",
    "\n",
    "    # 计算验证位\n",
    "    id17 = address_code + birthday + sequence_code\n",
    "    weight_factors = [7, 9, 10, 5, 8, 4, 2, 1, 6, 3, 7, 9, 10, 5, 8, 4, 2]\n",
    "    check_code_list = ['1', '0', 'X', '9', '8', '7', '6', '5', '4', '3', '2']\n",
    "    weighted_sum = sum([int(id17[i]) * weight_factors[i] for i in range(17)])\n",
    "    check_code = check_code_list[weighted_sum % 11]\n",
    "\n",
    "    # 拼接成完整的身份证号码\n",
    "    id_number = id17 + check_code\n",
    "    return id_number\n",
    "\n",
    "# 生成一个身份证号码\n",
    "id_number = generate_id_number()\n",
    "print(id_number)"
   ]
  },
  {
   "cell_type": "code",
   "execution_count": null,
   "id": "76a24258-44ad-4a95-87a5-3d401a9770af",
   "metadata": {},
   "outputs": [],
   "source": []
  }
 ],
 "metadata": {
  "kernelspec": {
   "display_name": "Python 3 (ipykernel)",
   "language": "python",
   "name": "python3"
  },
  "language_info": {
   "codemirror_mode": {
    "name": "ipython",
    "version": 3
   },
   "file_extension": ".py",
   "mimetype": "text/x-python",
   "name": "python",
   "nbconvert_exporter": "python",
   "pygments_lexer": "ipython3",
   "version": "3.10.13"
  }
 },
 "nbformat": 4,
 "nbformat_minor": 5
}
